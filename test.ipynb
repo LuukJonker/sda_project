{
 "cells": [
  {
   "cell_type": "code",
   "execution_count": 1,
   "metadata": {},
   "outputs": [
    {
     "name": "stderr",
     "output_type": "stream",
     "text": [
      "2023-11-26 14:50:09.543821: I external/local_tsl/tsl/cuda/cudart_stub.cc:31] Could not find cuda drivers on your machine, GPU will not be used.\n",
      "2023-11-26 14:50:09.581636: E external/local_xla/xla/stream_executor/cuda/cuda_dnn.cc:9261] Unable to register cuDNN factory: Attempting to register factory for plugin cuDNN when one has already been registered\n",
      "2023-11-26 14:50:09.581708: E external/local_xla/xla/stream_executor/cuda/cuda_fft.cc:607] Unable to register cuFFT factory: Attempting to register factory for plugin cuFFT when one has already been registered\n",
      "2023-11-26 14:50:09.583474: E external/local_xla/xla/stream_executor/cuda/cuda_blas.cc:1515] Unable to register cuBLAS factory: Attempting to register factory for plugin cuBLAS when one has already been registered\n",
      "2023-11-26 14:50:09.589348: I external/local_tsl/tsl/cuda/cudart_stub.cc:31] Could not find cuda drivers on your machine, GPU will not be used.\n",
      "2023-11-26 14:50:09.590326: I tensorflow/core/platform/cpu_feature_guard.cc:182] This TensorFlow binary is optimized to use available CPU instructions in performance-critical operations.\n",
      "To enable the following instructions: AVX2 FMA, in other operations, rebuild TensorFlow with the appropriate compiler flags.\n",
      "2023-11-26 14:50:10.452949: W tensorflow/compiler/tf2tensorrt/utils/py_utils.cc:38] TF-TRT Warning: Could not find TensorRT\n",
      "/home/luuk/.local/lib/python3.10/site-packages/scipy/__init__.py:146: UserWarning: A NumPy version >=1.17.3 and <1.25.0 is required for this version of SciPy (detected version 1.26.2\n",
      "  warnings.warn(f\"A NumPy version >={np_minversion} and <{np_maxversion}\"\n"
     ]
    }
   ],
   "source": [
    "import numpy as np\n",
    "import pandas as pd\n",
    "from tensorflow.keras.models import Sequential\n",
    "from tensorflow.keras.layers import LSTM, Dense\n",
    "from sklearn.preprocessing import MinMaxScaler\n",
    "from sklearn.model_selection import train_test_split"
   ]
  },
  {
   "cell_type": "code",
   "execution_count": 14,
   "metadata": {},
   "outputs": [],
   "source": [
    "# Load data\n",
    "df = pd.read_csv('ETH-USD.csv')\n",
    "\n",
    "features = df[['Open', 'High', 'Low', 'Close', 'Volume']].values\n",
    "\n",
    "# Normalize the data\n",
    "scaler = MinMaxScaler(feature_range=(0, 1))\n",
    "scaled_data = scaler.fit_transform(features)"
   ]
  },
  {
   "cell_type": "code",
   "execution_count": 15,
   "metadata": {},
   "outputs": [],
   "source": [
    "\n",
    "# Create a dataset with X (input) and y (output) for time series\n",
    "def create_dataset(dataset, time_step=1):\n",
    "    X, y = [], []\n",
    "    for i in range(len(dataset) - time_step - 1):\n",
    "        a = dataset[i:(i + time_step), :]\n",
    "        X.append(a)\n",
    "        y.append(dataset[i + time_step, -2])\n",
    "    return np.array(X), np.array(y)\n",
    "\n",
    "time_step = 100\n",
    "X, y = create_dataset(scaled_data, time_step)"
   ]
  },
  {
   "cell_type": "code",
   "execution_count": 17,
   "metadata": {},
   "outputs": [],
   "source": [
    "# Split the data into training and test sets\n",
    "X_train, X_test, y_train, y_test = train_test_split(X, y, test_size=0.2, random_state=42)\n",
    "\n",
    "# Reshape input to be [samples, time steps, features]\n",
    "X_train = X_train.reshape(X_train.shape[0], X_train.shape[1], 5)\n",
    "X_test = X_test.reshape(X_test.shape[0], X_test.shape[1], 5)"
   ]
  },
  {
   "cell_type": "code",
   "execution_count": 18,
   "metadata": {},
   "outputs": [],
   "source": [
    "# Define the LSTM model\n",
    "model = Sequential()\n",
    "model.add(LSTM(units=50, return_sequences=True, input_shape=(X_train.shape[1], 5)))\n",
    "model.add(LSTM(units=50, return_sequences=False))\n",
    "model.add(Dense(units=25))\n",
    "model.add(Dense(units=1))"
   ]
  },
  {
   "cell_type": "code",
   "execution_count": 19,
   "metadata": {},
   "outputs": [],
   "source": [
    "# Compile the model\n",
    "model.compile(optimizer='adam', loss='mean_squared_error')"
   ]
  },
  {
   "cell_type": "code",
   "execution_count": 20,
   "metadata": {},
   "outputs": [
    {
     "name": "stdout",
     "output_type": "stream",
     "text": [
      "Epoch 1/100\n",
      "38/38 [==============================] - 4s 40ms/step - loss: 0.0066\n",
      "Epoch 2/100\n",
      "38/38 [==============================] - 2s 40ms/step - loss: 0.0015\n",
      "Epoch 3/100\n",
      "38/38 [==============================] - 2s 40ms/step - loss: 0.0013\n",
      "Epoch 4/100\n",
      "38/38 [==============================] - 2s 44ms/step - loss: 0.0012\n",
      "Epoch 5/100\n",
      "38/38 [==============================] - 2s 41ms/step - loss: 0.0012\n",
      "Epoch 6/100\n",
      "38/38 [==============================] - 2s 48ms/step - loss: 0.0010\n",
      "Epoch 7/100\n",
      "38/38 [==============================] - 2s 46ms/step - loss: 8.8178e-04\n",
      "Epoch 8/100\n",
      "38/38 [==============================] - 2s 40ms/step - loss: 0.0011\n",
      "Epoch 9/100\n",
      "38/38 [==============================] - 1s 38ms/step - loss: 0.0011\n",
      "Epoch 10/100\n",
      "38/38 [==============================] - 1s 39ms/step - loss: 7.8924e-04\n",
      "Epoch 11/100\n",
      "38/38 [==============================] - 1s 38ms/step - loss: 7.7408e-04\n",
      "Epoch 12/100\n",
      "38/38 [==============================] - 1s 38ms/step - loss: 7.1386e-04\n",
      "Epoch 13/100\n",
      "38/38 [==============================] - 1s 39ms/step - loss: 6.8972e-04\n",
      "Epoch 14/100\n",
      "38/38 [==============================] - 2s 41ms/step - loss: 9.4982e-04\n",
      "Epoch 15/100\n",
      "38/38 [==============================] - 1s 38ms/step - loss: 6.3151e-04\n",
      "Epoch 16/100\n",
      "38/38 [==============================] - 1s 38ms/step - loss: 7.2643e-04\n",
      "Epoch 17/100\n",
      "38/38 [==============================] - 2s 45ms/step - loss: 5.7962e-04\n",
      "Epoch 18/100\n",
      "38/38 [==============================] - 2s 40ms/step - loss: 7.4839e-04\n",
      "Epoch 19/100\n",
      "38/38 [==============================] - 2s 40ms/step - loss: 5.8492e-04\n",
      "Epoch 20/100\n",
      "38/38 [==============================] - 2s 41ms/step - loss: 5.5962e-04\n",
      "Epoch 21/100\n",
      "38/38 [==============================] - 2s 40ms/step - loss: 5.2439e-04\n",
      "Epoch 22/100\n",
      "38/38 [==============================] - 2s 40ms/step - loss: 5.1228e-04\n",
      "Epoch 23/100\n",
      "38/38 [==============================] - 2s 41ms/step - loss: 5.3051e-04\n",
      "Epoch 24/100\n",
      "38/38 [==============================] - 2s 40ms/step - loss: 6.6631e-04\n",
      "Epoch 25/100\n",
      "38/38 [==============================] - 2s 41ms/step - loss: 6.1174e-04\n",
      "Epoch 26/100\n",
      "38/38 [==============================] - 2s 41ms/step - loss: 5.2176e-04\n",
      "Epoch 27/100\n",
      "38/38 [==============================] - 2s 40ms/step - loss: 4.5854e-04\n",
      "Epoch 28/100\n",
      "38/38 [==============================] - 2s 43ms/step - loss: 4.6342e-04\n",
      "Epoch 29/100\n",
      "38/38 [==============================] - 2s 43ms/step - loss: 4.3455e-04\n",
      "Epoch 30/100\n",
      "38/38 [==============================] - 2s 40ms/step - loss: 4.7750e-04\n",
      "Epoch 31/100\n",
      "38/38 [==============================] - 2s 41ms/step - loss: 4.7141e-04\n",
      "Epoch 32/100\n",
      "38/38 [==============================] - 2s 40ms/step - loss: 4.3948e-04\n",
      "Epoch 33/100\n",
      "38/38 [==============================] - 2s 41ms/step - loss: 4.2532e-04\n",
      "Epoch 34/100\n",
      "38/38 [==============================] - 2s 41ms/step - loss: 4.2384e-04\n",
      "Epoch 35/100\n",
      "38/38 [==============================] - 2s 40ms/step - loss: 4.7582e-04\n",
      "Epoch 36/100\n",
      "38/38 [==============================] - 2s 41ms/step - loss: 6.4673e-04\n",
      "Epoch 37/100\n",
      "38/38 [==============================] - 2s 41ms/step - loss: 4.5957e-04\n",
      "Epoch 38/100\n",
      "38/38 [==============================] - 2s 41ms/step - loss: 4.5760e-04\n",
      "Epoch 39/100\n",
      "38/38 [==============================] - 2s 41ms/step - loss: 4.3141e-04\n",
      "Epoch 40/100\n",
      "38/38 [==============================] - 2s 42ms/step - loss: 4.1939e-04\n",
      "Epoch 41/100\n",
      "38/38 [==============================] - 2s 41ms/step - loss: 4.1110e-04\n",
      "Epoch 42/100\n",
      "38/38 [==============================] - 2s 41ms/step - loss: 3.8349e-04\n",
      "Epoch 43/100\n",
      "38/38 [==============================] - 2s 40ms/step - loss: 3.9325e-04\n",
      "Epoch 44/100\n",
      "38/38 [==============================] - 2s 41ms/step - loss: 4.2060e-04\n",
      "Epoch 45/100\n",
      "38/38 [==============================] - 2s 42ms/step - loss: 3.7599e-04\n",
      "Epoch 46/100\n",
      "38/38 [==============================] - 2s 41ms/step - loss: 3.9702e-04\n",
      "Epoch 47/100\n",
      "38/38 [==============================] - 2s 40ms/step - loss: 3.8728e-04\n",
      "Epoch 48/100\n",
      "38/38 [==============================] - 2s 41ms/step - loss: 3.9799e-04\n",
      "Epoch 49/100\n",
      "38/38 [==============================] - 2s 41ms/step - loss: 3.8228e-04\n",
      "Epoch 50/100\n",
      "38/38 [==============================] - 2s 41ms/step - loss: 5.0369e-04\n",
      "Epoch 51/100\n",
      "38/38 [==============================] - 2s 42ms/step - loss: 4.0315e-04\n",
      "Epoch 52/100\n",
      "38/38 [==============================] - 2s 41ms/step - loss: 3.9752e-04\n",
      "Epoch 53/100\n",
      "38/38 [==============================] - 2s 41ms/step - loss: 3.7461e-04\n",
      "Epoch 54/100\n",
      "38/38 [==============================] - 2s 41ms/step - loss: 3.9342e-04\n",
      "Epoch 55/100\n",
      "38/38 [==============================] - 2s 40ms/step - loss: 4.4077e-04\n",
      "Epoch 56/100\n",
      "38/38 [==============================] - 2s 40ms/step - loss: 4.2824e-04\n",
      "Epoch 57/100\n",
      "38/38 [==============================] - 2s 40ms/step - loss: 4.8717e-04\n",
      "Epoch 58/100\n",
      "38/38 [==============================] - 2s 40ms/step - loss: 4.5156e-04\n",
      "Epoch 59/100\n",
      "38/38 [==============================] - 2s 40ms/step - loss: 3.5536e-04\n",
      "Epoch 60/100\n",
      "38/38 [==============================] - 2s 40ms/step - loss: 3.5724e-04\n",
      "Epoch 61/100\n",
      "38/38 [==============================] - 2s 40ms/step - loss: 3.7229e-04\n",
      "Epoch 62/100\n",
      "38/38 [==============================] - 2s 39ms/step - loss: 3.4095e-04\n",
      "Epoch 63/100\n",
      "38/38 [==============================] - 2s 40ms/step - loss: 3.6402e-04\n",
      "Epoch 64/100\n",
      "38/38 [==============================] - 2s 40ms/step - loss: 3.2772e-04\n",
      "Epoch 65/100\n",
      "38/38 [==============================] - 2s 40ms/step - loss: 3.2302e-04\n",
      "Epoch 66/100\n",
      "38/38 [==============================] - 2s 40ms/step - loss: 3.5159e-04\n",
      "Epoch 67/100\n",
      "38/38 [==============================] - 2s 40ms/step - loss: 3.9088e-04\n",
      "Epoch 68/100\n",
      "38/38 [==============================] - 1s 39ms/step - loss: 3.5359e-04\n",
      "Epoch 69/100\n",
      "38/38 [==============================] - 2s 40ms/step - loss: 3.3012e-04\n",
      "Epoch 70/100\n",
      "38/38 [==============================] - 2s 40ms/step - loss: 4.0435e-04\n",
      "Epoch 71/100\n",
      "38/38 [==============================] - 1s 39ms/step - loss: 3.5415e-04\n",
      "Epoch 72/100\n",
      "38/38 [==============================] - 2s 41ms/step - loss: 4.4608e-04\n",
      "Epoch 73/100\n",
      "38/38 [==============================] - 2s 40ms/step - loss: 3.1601e-04\n",
      "Epoch 74/100\n",
      "38/38 [==============================] - 2s 40ms/step - loss: 3.9223e-04\n",
      "Epoch 75/100\n",
      "38/38 [==============================] - 2s 40ms/step - loss: 3.5592e-04\n",
      "Epoch 76/100\n",
      "38/38 [==============================] - 2s 39ms/step - loss: 3.5309e-04\n",
      "Epoch 77/100\n",
      "38/38 [==============================] - 2s 40ms/step - loss: 3.7301e-04\n",
      "Epoch 78/100\n",
      "38/38 [==============================] - 2s 40ms/step - loss: 3.3995e-04\n",
      "Epoch 79/100\n",
      "38/38 [==============================] - 2s 40ms/step - loss: 4.4311e-04\n",
      "Epoch 80/100\n",
      "38/38 [==============================] - 2s 41ms/step - loss: 3.5740e-04\n",
      "Epoch 81/100\n",
      "38/38 [==============================] - 2s 40ms/step - loss: 3.6393e-04\n",
      "Epoch 82/100\n",
      "38/38 [==============================] - 1s 39ms/step - loss: 3.2371e-04\n",
      "Epoch 83/100\n",
      "38/38 [==============================] - 2s 42ms/step - loss: 3.1120e-04\n",
      "Epoch 84/100\n",
      "38/38 [==============================] - 2s 39ms/step - loss: 3.4731e-04\n",
      "Epoch 85/100\n",
      "38/38 [==============================] - 2s 41ms/step - loss: 3.5436e-04\n",
      "Epoch 86/100\n",
      "38/38 [==============================] - 2s 40ms/step - loss: 3.2785e-04\n",
      "Epoch 87/100\n",
      "38/38 [==============================] - 2s 40ms/step - loss: 3.0365e-04\n",
      "Epoch 88/100\n",
      "38/38 [==============================] - 2s 41ms/step - loss: 3.1093e-04\n",
      "Epoch 89/100\n",
      "38/38 [==============================] - 2s 40ms/step - loss: 4.1703e-04\n",
      "Epoch 90/100\n",
      "38/38 [==============================] - 2s 40ms/step - loss: 3.1862e-04\n",
      "Epoch 91/100\n",
      "38/38 [==============================] - 2s 40ms/step - loss: 3.0674e-04\n",
      "Epoch 92/100\n",
      "38/38 [==============================] - 2s 40ms/step - loss: 3.3704e-04\n",
      "Epoch 93/100\n",
      "38/38 [==============================] - 2s 41ms/step - loss: 3.1796e-04\n",
      "Epoch 94/100\n",
      "38/38 [==============================] - 2s 40ms/step - loss: 3.1780e-04\n",
      "Epoch 95/100\n",
      "38/38 [==============================] - 1s 39ms/step - loss: 3.0883e-04\n",
      "Epoch 96/100\n",
      "38/38 [==============================] - 2s 40ms/step - loss: 3.8100e-04\n",
      "Epoch 97/100\n",
      "38/38 [==============================] - 2s 39ms/step - loss: 3.6452e-04\n",
      "Epoch 98/100\n",
      "38/38 [==============================] - 2s 40ms/step - loss: 3.1026e-04\n",
      "Epoch 99/100\n",
      "38/38 [==============================] - 2s 40ms/step - loss: 3.6291e-04\n",
      "Epoch 100/100\n",
      "38/38 [==============================] - 2s 42ms/step - loss: 3.1692e-04\n"
     ]
    },
    {
     "data": {
      "text/plain": [
       "<keras.src.callbacks.History at 0x7ff334a40eb0>"
      ]
     },
     "execution_count": 20,
     "metadata": {},
     "output_type": "execute_result"
    }
   ],
   "source": [
    "# Train the model\n",
    "model.fit(X_train, y_train, batch_size=32, epochs=100)"
   ]
  },
  {
   "cell_type": "code",
   "execution_count": 49,
   "metadata": {},
   "outputs": [
    {
     "name": "stdout",
     "output_type": "stream",
     "text": [
      "4/4 [==============================] - 0s 27ms/step\n"
     ]
    }
   ],
   "source": [
    "# Predict on test data\n",
    "predictions = model.predict(X_train[-time_step:])\n",
    "p = np.zeros((100, 5))\n",
    "p[:, 0] = predictions[:, 0]\n",
    "predictions = p\n",
    "predictions = scaler.inverse_transform(predictions)[:, 0]"
   ]
  },
  {
   "cell_type": "code",
   "execution_count": 50,
   "metadata": {},
   "outputs": [
    {
     "ename": "ValueError",
     "evalue": "operands could not be broadcast together with shapes (100,) (300,) ",
     "output_type": "error",
     "traceback": [
      "\u001b[0;31m---------------------------------------------------------------------------\u001b[0m",
      "\u001b[0;31mValueError\u001b[0m                                Traceback (most recent call last)",
      "\u001b[1;32m/home/luuk/code/sda/project/test.ipynb Cell 9\u001b[0m line \u001b[0;36m<cell line: 2>\u001b[0;34m()\u001b[0m\n\u001b[1;32m      <a href='vscode-notebook-cell:/home/luuk/code/sda/project/test.ipynb#X11sZmlsZQ%3D%3D?line=0'>1</a>\u001b[0m \u001b[39m# Calculate RMSE\u001b[39;00m\n\u001b[0;32m----> <a href='vscode-notebook-cell:/home/luuk/code/sda/project/test.ipynb#X11sZmlsZQ%3D%3D?line=1'>2</a>\u001b[0m rmse \u001b[39m=\u001b[39m np\u001b[39m.\u001b[39msqrt(np\u001b[39m.\u001b[39mmean(predictions \u001b[39m-\u001b[39;49m y_test)\u001b[39m*\u001b[39m\u001b[39m*\u001b[39m\u001b[39m2\u001b[39m)\n\u001b[1;32m      <a href='vscode-notebook-cell:/home/luuk/code/sda/project/test.ipynb#X11sZmlsZQ%3D%3D?line=2'>3</a>\u001b[0m \u001b[39mprint\u001b[39m(\u001b[39m'\u001b[39m\u001b[39mRMSE: \u001b[39m\u001b[39m'\u001b[39m, rmse)\n",
      "\u001b[0;31mValueError\u001b[0m: operands could not be broadcast together with shapes (100,) (300,) "
     ]
    }
   ],
   "source": [
    "# Calculate RMSE\n",
    "rmse = np.sqrt(np.mean(predictions - y_test)**2)\n",
    "print('RMSE: ', rmse)"
   ]
  },
  {
   "cell_type": "code",
   "execution_count": 51,
   "metadata": {},
   "outputs": [
    {
     "data": {
      "image/png": "[encoded data removed]",
      "text/plain": [
       "<Figure size 1152x576 with 1 Axes>"
      ]
     },
     "metadata": {
      "needs_background": "light"
     },
     "output_type": "display_data"
    }
   ],
   "source": [
    "import matplotlib.pyplot as plt\n",
    "\n",
    "# Plot the data\n",
    "train = features[:len(X_train)][:, -2]\n",
    "valid = features[len(X_train):][:, -2]\n",
    "\n",
    "plt.figure(figsize=(16, 8))\n",
    "plt.title('Model')\n",
    "plt.xlabel('Date', fontsize=18)\n",
    "plt.ylabel('Price')\n",
    "plt.plot(np.arange(len(train)), train)\n",
    "plt.plot(np.arange(len(train), len(train) + len(valid)), valid)\n",
    "plt.plot(np.arange(len(train), len(train) + len(predictions)), predictions)\n",
    "# plt.legend(['Train', 'Val', 'Predictions'], loc='lower right')\n",
    "plt.show()"
   ]
  }
 ],
 "metadata": {
  "kernelspec": {
   "display_name": "Python 3",
   "language": "python",
   "name": "python3"
  },
  "language_info": {
   "codemirror_mode": {
    "name": "ipython",
    "version": 3
   },
   "file_extension": ".py",
   "mimetype": "text/x-python",
   "name": "python",
   "nbconvert_exporter": "python",
   "pygments_lexer": "ipython3",
   "version": "3.10.12"
  }
 },
 "nbformat": 4,
 "nbformat_minor": 2
}
